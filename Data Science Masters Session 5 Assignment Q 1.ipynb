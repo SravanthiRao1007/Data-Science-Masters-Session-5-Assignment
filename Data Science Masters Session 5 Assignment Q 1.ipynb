{
 "cells": [
  {
   "cell_type": "code",
   "execution_count": 2,
   "metadata": {},
   "outputs": [
    {
     "name": "stdout",
     "output_type": "stream",
     "text": [
      "Division by Zero is an error!!\n",
      "Mathematically Division by zero is Infinity or Undefined\n"
     ]
    }
   ],
   "source": [
    "## Assignment 5 Session 5 Q 1 5/0 and use try/except to catch exceptions \n",
    "\n",
    "def zerodivision():\n",
    "    try:\n",
    "        a = 5\n",
    "        b = 0\n",
    "        print(a/b)\n",
    "    \n",
    "    except ZeroDivisionError:\n",
    "        print(\"Division by Zero is an error!!\")\n",
    "        \n",
    "    finally:\n",
    "        print(\"Mathematically Division by zero is Infinity or Undefined\")\n",
    "        \n",
    "zerodivision()"
   ]
  },
  {
   "cell_type": "code",
   "execution_count": null,
   "metadata": {},
   "outputs": [],
   "source": []
  }
 ],
 "metadata": {
  "kernelspec": {
   "display_name": "Python 3",
   "language": "python",
   "name": "python3"
  },
  "language_info": {
   "codemirror_mode": {
    "name": "ipython",
    "version": 3
   },
   "file_extension": ".py",
   "mimetype": "text/x-python",
   "name": "python",
   "nbconvert_exporter": "python",
   "pygments_lexer": "ipython3",
   "version": "3.6.5"
  }
 },
 "nbformat": 4,
 "nbformat_minor": 2
}
